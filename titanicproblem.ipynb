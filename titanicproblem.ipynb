{
 "cells": [
  {
   "cell_type": "code",
   "execution_count": 1,
   "id": "2bd86a78",
   "metadata": {
    "_cell_guid": "b1076dfc-b9ad-4769-8c92-a6c4dae69d19",
    "_uuid": "8f2839f25d086af736a60e9eeb907d3b93b6e0e5",
    "execution": {
     "iopub.execute_input": "2023-11-16T00:58:57.044463Z",
     "iopub.status.busy": "2023-11-16T00:58:57.043765Z",
     "iopub.status.idle": "2023-11-16T00:58:58.610847Z",
     "shell.execute_reply": "2023-11-16T00:58:58.609923Z"
    },
    "papermill": {
     "duration": 1.578614,
     "end_time": "2023-11-16T00:58:58.613731",
     "exception": false,
     "start_time": "2023-11-16T00:58:57.035117",
     "status": "completed"
    },
    "tags": []
   },
   "outputs": [],
   "source": [
    "import pandas as pd\n",
    "import matplotlib.pyplot as plt\n",
    "from sklearn.metrics import confusion_matrix, ConfusionMatrixDisplay, classification_report\n"
   ]
  },
  {
   "cell_type": "code",
   "execution_count": 2,
   "id": "e758d7d6",
   "metadata": {
    "execution": {
     "iopub.execute_input": "2023-11-16T00:58:58.629446Z",
     "iopub.status.busy": "2023-11-16T00:58:58.628626Z",
     "iopub.status.idle": "2023-11-16T00:58:58.655080Z",
     "shell.execute_reply": "2023-11-16T00:58:58.654112Z"
    },
    "papermill": {
     "duration": 0.036156,
     "end_time": "2023-11-16T00:58:58.657742",
     "exception": false,
     "start_time": "2023-11-16T00:58:58.621586",
     "status": "completed"
    },
    "tags": []
   },
   "outputs": [],
   "source": [
    "data = pd.read_csv(\"/kaggle/input/titanic-dataset/Titanic-Dataset.csv\")"
   ]
  },
  {
   "cell_type": "code",
   "execution_count": 3,
   "id": "e9b76a98",
   "metadata": {
    "execution": {
     "iopub.execute_input": "2023-11-16T00:58:58.671492Z",
     "iopub.status.busy": "2023-11-16T00:58:58.671094Z",
     "iopub.status.idle": "2023-11-16T00:58:58.700398Z",
     "shell.execute_reply": "2023-11-16T00:58:58.699201Z"
    },
    "papermill": {
     "duration": 0.03908,
     "end_time": "2023-11-16T00:58:58.702740",
     "exception": false,
     "start_time": "2023-11-16T00:58:58.663660",
     "status": "completed"
    },
    "tags": []
   },
   "outputs": [
    {
     "data": {
      "text/html": [
       "<div>\n",
       "<style scoped>\n",
       "    .dataframe tbody tr th:only-of-type {\n",
       "        vertical-align: middle;\n",
       "    }\n",
       "\n",
       "    .dataframe tbody tr th {\n",
       "        vertical-align: top;\n",
       "    }\n",
       "\n",
       "    .dataframe thead th {\n",
       "        text-align: right;\n",
       "    }\n",
       "</style>\n",
       "<table border=\"1\" class=\"dataframe\">\n",
       "  <thead>\n",
       "    <tr style=\"text-align: right;\">\n",
       "      <th></th>\n",
       "      <th>PassengerId</th>\n",
       "      <th>Survived</th>\n",
       "      <th>Pclass</th>\n",
       "      <th>Name</th>\n",
       "      <th>Sex</th>\n",
       "      <th>Age</th>\n",
       "      <th>SibSp</th>\n",
       "      <th>Parch</th>\n",
       "      <th>Ticket</th>\n",
       "      <th>Fare</th>\n",
       "      <th>Cabin</th>\n",
       "      <th>Embarked</th>\n",
       "    </tr>\n",
       "  </thead>\n",
       "  <tbody>\n",
       "    <tr>\n",
       "      <th>0</th>\n",
       "      <td>1</td>\n",
       "      <td>0</td>\n",
       "      <td>3</td>\n",
       "      <td>Braund, Mr. Owen Harris</td>\n",
       "      <td>male</td>\n",
       "      <td>22.0</td>\n",
       "      <td>1</td>\n",
       "      <td>0</td>\n",
       "      <td>A/5 21171</td>\n",
       "      <td>7.2500</td>\n",
       "      <td>NaN</td>\n",
       "      <td>S</td>\n",
       "    </tr>\n",
       "    <tr>\n",
       "      <th>1</th>\n",
       "      <td>2</td>\n",
       "      <td>1</td>\n",
       "      <td>1</td>\n",
       "      <td>Cumings, Mrs. John Bradley (Florence Briggs Th...</td>\n",
       "      <td>female</td>\n",
       "      <td>38.0</td>\n",
       "      <td>1</td>\n",
       "      <td>0</td>\n",
       "      <td>PC 17599</td>\n",
       "      <td>71.2833</td>\n",
       "      <td>C85</td>\n",
       "      <td>C</td>\n",
       "    </tr>\n",
       "    <tr>\n",
       "      <th>2</th>\n",
       "      <td>3</td>\n",
       "      <td>1</td>\n",
       "      <td>3</td>\n",
       "      <td>Heikkinen, Miss. Laina</td>\n",
       "      <td>female</td>\n",
       "      <td>26.0</td>\n",
       "      <td>0</td>\n",
       "      <td>0</td>\n",
       "      <td>STON/O2. 3101282</td>\n",
       "      <td>7.9250</td>\n",
       "      <td>NaN</td>\n",
       "      <td>S</td>\n",
       "    </tr>\n",
       "    <tr>\n",
       "      <th>3</th>\n",
       "      <td>4</td>\n",
       "      <td>1</td>\n",
       "      <td>1</td>\n",
       "      <td>Futrelle, Mrs. Jacques Heath (Lily May Peel)</td>\n",
       "      <td>female</td>\n",
       "      <td>35.0</td>\n",
       "      <td>1</td>\n",
       "      <td>0</td>\n",
       "      <td>113803</td>\n",
       "      <td>53.1000</td>\n",
       "      <td>C123</td>\n",
       "      <td>S</td>\n",
       "    </tr>\n",
       "    <tr>\n",
       "      <th>4</th>\n",
       "      <td>5</td>\n",
       "      <td>0</td>\n",
       "      <td>3</td>\n",
       "      <td>Allen, Mr. William Henry</td>\n",
       "      <td>male</td>\n",
       "      <td>35.0</td>\n",
       "      <td>0</td>\n",
       "      <td>0</td>\n",
       "      <td>373450</td>\n",
       "      <td>8.0500</td>\n",
       "      <td>NaN</td>\n",
       "      <td>S</td>\n",
       "    </tr>\n",
       "    <tr>\n",
       "      <th>5</th>\n",
       "      <td>6</td>\n",
       "      <td>0</td>\n",
       "      <td>3</td>\n",
       "      <td>Moran, Mr. James</td>\n",
       "      <td>male</td>\n",
       "      <td>NaN</td>\n",
       "      <td>0</td>\n",
       "      <td>0</td>\n",
       "      <td>330877</td>\n",
       "      <td>8.4583</td>\n",
       "      <td>NaN</td>\n",
       "      <td>Q</td>\n",
       "    </tr>\n",
       "    <tr>\n",
       "      <th>6</th>\n",
       "      <td>7</td>\n",
       "      <td>0</td>\n",
       "      <td>1</td>\n",
       "      <td>McCarthy, Mr. Timothy J</td>\n",
       "      <td>male</td>\n",
       "      <td>54.0</td>\n",
       "      <td>0</td>\n",
       "      <td>0</td>\n",
       "      <td>17463</td>\n",
       "      <td>51.8625</td>\n",
       "      <td>E46</td>\n",
       "      <td>S</td>\n",
       "    </tr>\n",
       "    <tr>\n",
       "      <th>7</th>\n",
       "      <td>8</td>\n",
       "      <td>0</td>\n",
       "      <td>3</td>\n",
       "      <td>Palsson, Master. Gosta Leonard</td>\n",
       "      <td>male</td>\n",
       "      <td>2.0</td>\n",
       "      <td>3</td>\n",
       "      <td>1</td>\n",
       "      <td>349909</td>\n",
       "      <td>21.0750</td>\n",
       "      <td>NaN</td>\n",
       "      <td>S</td>\n",
       "    </tr>\n",
       "    <tr>\n",
       "      <th>8</th>\n",
       "      <td>9</td>\n",
       "      <td>1</td>\n",
       "      <td>3</td>\n",
       "      <td>Johnson, Mrs. Oscar W (Elisabeth Vilhelmina Berg)</td>\n",
       "      <td>female</td>\n",
       "      <td>27.0</td>\n",
       "      <td>0</td>\n",
       "      <td>2</td>\n",
       "      <td>347742</td>\n",
       "      <td>11.1333</td>\n",
       "      <td>NaN</td>\n",
       "      <td>S</td>\n",
       "    </tr>\n",
       "    <tr>\n",
       "      <th>9</th>\n",
       "      <td>10</td>\n",
       "      <td>1</td>\n",
       "      <td>2</td>\n",
       "      <td>Nasser, Mrs. Nicholas (Adele Achem)</td>\n",
       "      <td>female</td>\n",
       "      <td>14.0</td>\n",
       "      <td>1</td>\n",
       "      <td>0</td>\n",
       "      <td>237736</td>\n",
       "      <td>30.0708</td>\n",
       "      <td>NaN</td>\n",
       "      <td>C</td>\n",
       "    </tr>\n",
       "  </tbody>\n",
       "</table>\n",
       "</div>"
      ],
      "text/plain": [
       "   PassengerId  Survived  Pclass  \\\n",
       "0            1         0       3   \n",
       "1            2         1       1   \n",
       "2            3         1       3   \n",
       "3            4         1       1   \n",
       "4            5         0       3   \n",
       "5            6         0       3   \n",
       "6            7         0       1   \n",
       "7            8         0       3   \n",
       "8            9         1       3   \n",
       "9           10         1       2   \n",
       "\n",
       "                                                Name     Sex   Age  SibSp  \\\n",
       "0                            Braund, Mr. Owen Harris    male  22.0      1   \n",
       "1  Cumings, Mrs. John Bradley (Florence Briggs Th...  female  38.0      1   \n",
       "2                             Heikkinen, Miss. Laina  female  26.0      0   \n",
       "3       Futrelle, Mrs. Jacques Heath (Lily May Peel)  female  35.0      1   \n",
       "4                           Allen, Mr. William Henry    male  35.0      0   \n",
       "5                                   Moran, Mr. James    male   NaN      0   \n",
       "6                            McCarthy, Mr. Timothy J    male  54.0      0   \n",
       "7                     Palsson, Master. Gosta Leonard    male   2.0      3   \n",
       "8  Johnson, Mrs. Oscar W (Elisabeth Vilhelmina Berg)  female  27.0      0   \n",
       "9                Nasser, Mrs. Nicholas (Adele Achem)  female  14.0      1   \n",
       "\n",
       "   Parch            Ticket     Fare Cabin Embarked  \n",
       "0      0         A/5 21171   7.2500   NaN        S  \n",
       "1      0          PC 17599  71.2833   C85        C  \n",
       "2      0  STON/O2. 3101282   7.9250   NaN        S  \n",
       "3      0            113803  53.1000  C123        S  \n",
       "4      0            373450   8.0500   NaN        S  \n",
       "5      0            330877   8.4583   NaN        Q  \n",
       "6      0             17463  51.8625   E46        S  \n",
       "7      1            349909  21.0750   NaN        S  \n",
       "8      2            347742  11.1333   NaN        S  \n",
       "9      0            237736  30.0708   NaN        C  "
      ]
     },
     "execution_count": 3,
     "metadata": {},
     "output_type": "execute_result"
    }
   ],
   "source": [
    "data.head(n=10)"
   ]
  },
  {
   "cell_type": "code",
   "execution_count": 4,
   "id": "2aaed08f",
   "metadata": {
    "execution": {
     "iopub.execute_input": "2023-11-16T00:58:58.717414Z",
     "iopub.status.busy": "2023-11-16T00:58:58.717007Z",
     "iopub.status.idle": "2023-11-16T00:58:58.734973Z",
     "shell.execute_reply": "2023-11-16T00:58:58.733899Z"
    },
    "papermill": {
     "duration": 0.028148,
     "end_time": "2023-11-16T00:58:58.737285",
     "exception": false,
     "start_time": "2023-11-16T00:58:58.709137",
     "status": "completed"
    },
    "tags": []
   },
   "outputs": [
    {
     "data": {
      "text/html": [
       "<div>\n",
       "<style scoped>\n",
       "    .dataframe tbody tr th:only-of-type {\n",
       "        vertical-align: middle;\n",
       "    }\n",
       "\n",
       "    .dataframe tbody tr th {\n",
       "        vertical-align: top;\n",
       "    }\n",
       "\n",
       "    .dataframe thead th {\n",
       "        text-align: right;\n",
       "    }\n",
       "</style>\n",
       "<table border=\"1\" class=\"dataframe\">\n",
       "  <thead>\n",
       "    <tr style=\"text-align: right;\">\n",
       "      <th></th>\n",
       "      <th>Sex</th>\n",
       "      <th>Survived</th>\n",
       "    </tr>\n",
       "  </thead>\n",
       "  <tbody>\n",
       "    <tr>\n",
       "      <th>0</th>\n",
       "      <td>male</td>\n",
       "      <td>0</td>\n",
       "    </tr>\n",
       "    <tr>\n",
       "      <th>1</th>\n",
       "      <td>female</td>\n",
       "      <td>1</td>\n",
       "    </tr>\n",
       "    <tr>\n",
       "      <th>2</th>\n",
       "      <td>female</td>\n",
       "      <td>1</td>\n",
       "    </tr>\n",
       "    <tr>\n",
       "      <th>3</th>\n",
       "      <td>female</td>\n",
       "      <td>1</td>\n",
       "    </tr>\n",
       "    <tr>\n",
       "      <th>4</th>\n",
       "      <td>male</td>\n",
       "      <td>0</td>\n",
       "    </tr>\n",
       "  </tbody>\n",
       "</table>\n",
       "</div>"
      ],
      "text/plain": [
       "      Sex  Survived\n",
       "0    male         0\n",
       "1  female         1\n",
       "2  female         1\n",
       "3  female         1\n",
       "4    male         0"
      ]
     },
     "execution_count": 4,
     "metadata": {},
     "output_type": "execute_result"
    }
   ],
   "source": [
    "data_sex_survived = data[[\"Sex\",\"Survived\"]].copy()\n",
    "\n",
    "data_sex_survived.head()"
   ]
  },
  {
   "cell_type": "code",
   "execution_count": 5,
   "id": "dec41785",
   "metadata": {
    "execution": {
     "iopub.execute_input": "2023-11-16T00:58:58.752203Z",
     "iopub.status.busy": "2023-11-16T00:58:58.751768Z",
     "iopub.status.idle": "2023-11-16T00:58:58.763766Z",
     "shell.execute_reply": "2023-11-16T00:58:58.762563Z"
    },
    "papermill": {
     "duration": 0.022365,
     "end_time": "2023-11-16T00:58:58.766188",
     "exception": false,
     "start_time": "2023-11-16T00:58:58.743823",
     "status": "completed"
    },
    "tags": []
   },
   "outputs": [
    {
     "data": {
      "text/plain": [
       "Sex\n",
       "male      577\n",
       "female    314\n",
       "Name: count, dtype: int64"
      ]
     },
     "execution_count": 5,
     "metadata": {},
     "output_type": "execute_result"
    }
   ],
   "source": [
    "data_sex_survived[\"Sex\"].value_counts()"
   ]
  },
  {
   "cell_type": "code",
   "execution_count": 6,
   "id": "b1c304a0",
   "metadata": {
    "execution": {
     "iopub.execute_input": "2023-11-16T00:58:58.781334Z",
     "iopub.status.busy": "2023-11-16T00:58:58.780920Z",
     "iopub.status.idle": "2023-11-16T00:58:58.790139Z",
     "shell.execute_reply": "2023-11-16T00:58:58.789400Z"
    },
    "papermill": {
     "duration": 0.019127,
     "end_time": "2023-11-16T00:58:58.792090",
     "exception": false,
     "start_time": "2023-11-16T00:58:58.772963",
     "status": "completed"
    },
    "tags": []
   },
   "outputs": [
    {
     "data": {
      "text/plain": [
       "Survived\n",
       "0    549\n",
       "1    342\n",
       "Name: count, dtype: int64"
      ]
     },
     "execution_count": 6,
     "metadata": {},
     "output_type": "execute_result"
    }
   ],
   "source": [
    "data_sex_survived[\"Survived\"].value_counts()"
   ]
  },
  {
   "cell_type": "code",
   "execution_count": 7,
   "id": "eac3d4c0",
   "metadata": {
    "execution": {
     "iopub.execute_input": "2023-11-16T00:58:58.807056Z",
     "iopub.status.busy": "2023-11-16T00:58:58.806650Z",
     "iopub.status.idle": "2023-11-16T00:58:58.814557Z",
     "shell.execute_reply": "2023-11-16T00:58:58.813660Z"
    },
    "papermill": {
     "duration": 0.017833,
     "end_time": "2023-11-16T00:58:58.816589",
     "exception": false,
     "start_time": "2023-11-16T00:58:58.798756",
     "status": "completed"
    },
    "tags": []
   },
   "outputs": [
    {
     "data": {
      "text/plain": [
       "Sex\n",
       "male      577\n",
       "female    314\n",
       "Name: count, dtype: int64"
      ]
     },
     "execution_count": 7,
     "metadata": {},
     "output_type": "execute_result"
    }
   ],
   "source": [
    "sex_counts = data_sex_survived[\"Sex\"].value_counts()\n",
    "sex_counts"
   ]
  },
  {
   "cell_type": "code",
   "execution_count": 8,
   "id": "00cf9dc7",
   "metadata": {
    "execution": {
     "iopub.execute_input": "2023-11-16T00:58:58.832194Z",
     "iopub.status.busy": "2023-11-16T00:58:58.831766Z",
     "iopub.status.idle": "2023-11-16T00:58:58.846403Z",
     "shell.execute_reply": "2023-11-16T00:58:58.845476Z"
    },
    "papermill": {
     "duration": 0.025107,
     "end_time": "2023-11-16T00:58:58.848674",
     "exception": false,
     "start_time": "2023-11-16T00:58:58.823567",
     "status": "completed"
    },
    "tags": []
   },
   "outputs": [
    {
     "data": {
      "text/plain": [
       "Sex\n",
       "female    233\n",
       "male      109\n",
       "Name: Survived, dtype: int64"
      ]
     },
     "execution_count": 8,
     "metadata": {},
     "output_type": "execute_result"
    }
   ],
   "source": [
    "# Group the data by 'Sex' and count the survivors in each group\n",
    "survival_counts = data_sex_survived.groupby('Sex')['Survived'].sum()\n",
    "survival_counts"
   ]
  },
  {
   "cell_type": "code",
   "execution_count": 9,
   "id": "f7630d54",
   "metadata": {
    "execution": {
     "iopub.execute_input": "2023-11-16T00:58:58.864687Z",
     "iopub.status.busy": "2023-11-16T00:58:58.864284Z",
     "iopub.status.idle": "2023-11-16T00:58:58.874909Z",
     "shell.execute_reply": "2023-11-16T00:58:58.873795Z"
    },
    "papermill": {
     "duration": 0.021529,
     "end_time": "2023-11-16T00:58:58.877255",
     "exception": false,
     "start_time": "2023-11-16T00:58:58.855726",
     "status": "completed"
    },
    "tags": []
   },
   "outputs": [
    {
     "data": {
      "text/plain": [
       "Sex\n",
       "female    0.742038\n",
       "male      0.188908\n",
       "dtype: float64"
      ]
     },
     "execution_count": 9,
     "metadata": {},
     "output_type": "execute_result"
    }
   ],
   "source": [
    "survival_rates = survival_counts/sex_counts\n",
    "survival_rates"
   ]
  },
  {
   "cell_type": "code",
   "execution_count": 10,
   "id": "047bd923",
   "metadata": {
    "execution": {
     "iopub.execute_input": "2023-11-16T00:58:58.893637Z",
     "iopub.status.busy": "2023-11-16T00:58:58.893230Z",
     "iopub.status.idle": "2023-11-16T00:58:59.287220Z",
     "shell.execute_reply": "2023-11-16T00:58:59.286090Z"
    },
    "papermill": {
     "duration": 0.405247,
     "end_time": "2023-11-16T00:58:59.289852",
     "exception": false,
     "start_time": "2023-11-16T00:58:58.884605",
     "status": "completed"
    },
    "tags": []
   },
   "outputs": [
    {
     "data": {
      "text/plain": [
       "<Axes: title={'center': 'Survival Rate by Sex'}, xlabel='Count of Survived', ylabel='Sex'>"
      ]
     },
     "execution_count": 10,
     "metadata": {},
     "output_type": "execute_result"
    },
    {
     "data": {
      "image/png": "[encoded data removed]",
      "text/plain": [
       "<Figure size 640x480 with 1 Axes>"
      ]
     },
     "metadata": {},
     "output_type": "display_data"
    }
   ],
   "source": [
    "# Create a bar plot\n",
    "survival_rates.plot(kind='barh', xlabel='Count of Survived', ylabel='Sex', title='Survival Rate by Sex')\n"
   ]
  },
  {
   "cell_type": "code",
   "execution_count": 11,
   "id": "51b738fe",
   "metadata": {
    "execution": {
     "iopub.execute_input": "2023-11-16T00:58:59.307379Z",
     "iopub.status.busy": "2023-11-16T00:58:59.306955Z",
     "iopub.status.idle": "2023-11-16T00:58:59.314930Z",
     "shell.execute_reply": "2023-11-16T00:58:59.313711Z"
    },
    "papermill": {
     "duration": 0.019556,
     "end_time": "2023-11-16T00:58:59.317217",
     "exception": false,
     "start_time": "2023-11-16T00:58:59.297661",
     "status": "completed"
    },
    "tags": []
   },
   "outputs": [],
   "source": [
    "## Create function that will \"predict\" if survived or not\n",
    "\n",
    "\n",
    "def f(x):\n",
    "    if x == \"male\":\n",
    "        prediction = 0\n",
    "    else:\n",
    "        prediction = 1\n",
    "    return prediction\n",
    "    \n",
    "\n",
    "data_sex_survived[\"Prediction\"] = data_sex_survived[\"Sex\"].apply(lambda x: f(x))\n"
   ]
  },
  {
   "cell_type": "code",
   "execution_count": 12,
   "id": "97402cc1",
   "metadata": {
    "execution": {
     "iopub.execute_input": "2023-11-16T00:58:59.334837Z",
     "iopub.status.busy": "2023-11-16T00:58:59.334131Z",
     "iopub.status.idle": "2023-11-16T00:58:59.348396Z",
     "shell.execute_reply": "2023-11-16T00:58:59.347382Z"
    },
    "papermill": {
     "duration": 0.025645,
     "end_time": "2023-11-16T00:58:59.350779",
     "exception": false,
     "start_time": "2023-11-16T00:58:59.325134",
     "status": "completed"
    },
    "tags": []
   },
   "outputs": [
    {
     "data": {
      "text/html": [
       "<div>\n",
       "<style scoped>\n",
       "    .dataframe tbody tr th:only-of-type {\n",
       "        vertical-align: middle;\n",
       "    }\n",
       "\n",
       "    .dataframe tbody tr th {\n",
       "        vertical-align: top;\n",
       "    }\n",
       "\n",
       "    .dataframe thead th {\n",
       "        text-align: right;\n",
       "    }\n",
       "</style>\n",
       "<table border=\"1\" class=\"dataframe\">\n",
       "  <thead>\n",
       "    <tr style=\"text-align: right;\">\n",
       "      <th></th>\n",
       "      <th>Sex</th>\n",
       "      <th>Survived</th>\n",
       "      <th>Prediction</th>\n",
       "    </tr>\n",
       "  </thead>\n",
       "  <tbody>\n",
       "    <tr>\n",
       "      <th>0</th>\n",
       "      <td>male</td>\n",
       "      <td>0</td>\n",
       "      <td>0</td>\n",
       "    </tr>\n",
       "    <tr>\n",
       "      <th>1</th>\n",
       "      <td>female</td>\n",
       "      <td>1</td>\n",
       "      <td>1</td>\n",
       "    </tr>\n",
       "    <tr>\n",
       "      <th>2</th>\n",
       "      <td>female</td>\n",
       "      <td>1</td>\n",
       "      <td>1</td>\n",
       "    </tr>\n",
       "    <tr>\n",
       "      <th>3</th>\n",
       "      <td>female</td>\n",
       "      <td>1</td>\n",
       "      <td>1</td>\n",
       "    </tr>\n",
       "    <tr>\n",
       "      <th>4</th>\n",
       "      <td>male</td>\n",
       "      <td>0</td>\n",
       "      <td>0</td>\n",
       "    </tr>\n",
       "    <tr>\n",
       "      <th>...</th>\n",
       "      <td>...</td>\n",
       "      <td>...</td>\n",
       "      <td>...</td>\n",
       "    </tr>\n",
       "    <tr>\n",
       "      <th>886</th>\n",
       "      <td>male</td>\n",
       "      <td>0</td>\n",
       "      <td>0</td>\n",
       "    </tr>\n",
       "    <tr>\n",
       "      <th>887</th>\n",
       "      <td>female</td>\n",
       "      <td>1</td>\n",
       "      <td>1</td>\n",
       "    </tr>\n",
       "    <tr>\n",
       "      <th>888</th>\n",
       "      <td>female</td>\n",
       "      <td>0</td>\n",
       "      <td>1</td>\n",
       "    </tr>\n",
       "    <tr>\n",
       "      <th>889</th>\n",
       "      <td>male</td>\n",
       "      <td>1</td>\n",
       "      <td>0</td>\n",
       "    </tr>\n",
       "    <tr>\n",
       "      <th>890</th>\n",
       "      <td>male</td>\n",
       "      <td>0</td>\n",
       "      <td>0</td>\n",
       "    </tr>\n",
       "  </tbody>\n",
       "</table>\n",
       "<p>891 rows × 3 columns</p>\n",
       "</div>"
      ],
      "text/plain": [
       "        Sex  Survived  Prediction\n",
       "0      male         0           0\n",
       "1    female         1           1\n",
       "2    female         1           1\n",
       "3    female         1           1\n",
       "4      male         0           0\n",
       "..      ...       ...         ...\n",
       "886    male         0           0\n",
       "887  female         1           1\n",
       "888  female         0           1\n",
       "889    male         1           0\n",
       "890    male         0           0\n",
       "\n",
       "[891 rows x 3 columns]"
      ]
     },
     "execution_count": 12,
     "metadata": {},
     "output_type": "execute_result"
    }
   ],
   "source": [
    "data_sex_survived"
   ]
  },
  {
   "cell_type": "code",
   "execution_count": 13,
   "id": "aad141cb",
   "metadata": {
    "execution": {
     "iopub.execute_input": "2023-11-16T00:58:59.368728Z",
     "iopub.status.busy": "2023-11-16T00:58:59.368328Z",
     "iopub.status.idle": "2023-11-16T00:58:59.377484Z",
     "shell.execute_reply": "2023-11-16T00:58:59.376593Z"
    },
    "papermill": {
     "duration": 0.020693,
     "end_time": "2023-11-16T00:58:59.379546",
     "exception": false,
     "start_time": "2023-11-16T00:58:59.358853",
     "status": "completed"
    },
    "tags": []
   },
   "outputs": [
    {
     "data": {
      "text/plain": [
       "array([[468,  81],\n",
       "       [109, 233]])"
      ]
     },
     "execution_count": 13,
     "metadata": {},
     "output_type": "execute_result"
    }
   ],
   "source": [
    "cm = confusion_matrix(data_sex_survived[\"Survived\"],data_sex_survived[\"Prediction\"])\n",
    "cm"
   ]
  },
  {
   "cell_type": "code",
   "execution_count": 14,
   "id": "25e2f102",
   "metadata": {
    "execution": {
     "iopub.execute_input": "2023-11-16T00:58:59.397307Z",
     "iopub.status.busy": "2023-11-16T00:58:59.396909Z",
     "iopub.status.idle": "2023-11-16T00:58:59.737468Z",
     "shell.execute_reply": "2023-11-16T00:58:59.736235Z"
    },
    "papermill": {
     "duration": 0.352607,
     "end_time": "2023-11-16T00:58:59.740229",
     "exception": false,
     "start_time": "2023-11-16T00:58:59.387622",
     "status": "completed"
    },
    "tags": []
   },
   "outputs": [
    {
     "data": {
      "text/plain": [
       "<sklearn.metrics._plot.confusion_matrix.ConfusionMatrixDisplay at 0x7b4878dcace0>"
      ]
     },
     "execution_count": 14,
     "metadata": {},
     "output_type": "execute_result"
    },
    {
     "data": {
      "image/png": "[encoded data removed]",
      "text/plain": [
       "<Figure size 640x480 with 2 Axes>"
      ]
     },
     "metadata": {},
     "output_type": "display_data"
    }
   ],
   "source": [
    "ConfusionMatrixDisplay(confusion_matrix=cm).plot()\n"
   ]
  },
  {
   "cell_type": "code",
   "execution_count": 15,
   "id": "888bd549",
   "metadata": {
    "execution": {
     "iopub.execute_input": "2023-11-16T00:58:59.759459Z",
     "iopub.status.busy": "2023-11-16T00:58:59.759040Z",
     "iopub.status.idle": "2023-11-16T00:58:59.776376Z",
     "shell.execute_reply": "2023-11-16T00:58:59.775297Z"
    },
    "papermill": {
     "duration": 0.029773,
     "end_time": "2023-11-16T00:58:59.778825",
     "exception": false,
     "start_time": "2023-11-16T00:58:59.749052",
     "status": "completed"
    },
    "tags": []
   },
   "outputs": [
    {
     "name": "stdout",
     "output_type": "stream",
     "text": [
      "              precision    recall  f1-score   support\n",
      "\n",
      "           0       0.81      0.85      0.83       549\n",
      "           1       0.74      0.68      0.71       342\n",
      "\n",
      "    accuracy                           0.79       891\n",
      "   macro avg       0.78      0.77      0.77       891\n",
      "weighted avg       0.78      0.79      0.78       891\n",
      "\n"
     ]
    }
   ],
   "source": [
    "print(classification_report(data_sex_survived[\"Survived\"],data_sex_survived[\"Prediction\"]))"
   ]
  },
  {
   "cell_type": "code",
   "execution_count": null,
   "id": "01b6f321",
   "metadata": {
    "papermill": {
     "duration": 0.008812,
     "end_time": "2023-11-16T00:58:59.796882",
     "exception": false,
     "start_time": "2023-11-16T00:58:59.788070",
     "status": "completed"
    },
    "tags": []
   },
   "outputs": [],
   "source": []
  }
 ],
 "metadata": {
  "kaggle": {
   "accelerator": "none",
   "dataSources": [
    {
     "datasetId": 1818188,
     "sourceId": 2965537,
     "sourceType": "datasetVersion"
    }
   ],
   "dockerImageVersionId": 30587,
   "isGpuEnabled": false,
   "isInternetEnabled": true,
   "language": "python",
   "sourceType": "notebook"
  },
  "kernelspec": {
   "display_name": "Python 3",
   "language": "python",
   "name": "python3"
  },
  "language_info": {
   "codemirror_mode": {
    "name": "ipython",
    "version": 3
   },
   "file_extension": ".py",
   "mimetype": "text/x-python",
   "name": "python",
   "nbconvert_exporter": "python",
   "pygments_lexer": "ipython3",
   "version": "3.10.12"
  },
  "papermill": {
   "default_parameters": {},
   "duration": 6.584517,
   "end_time": "2023-11-16T00:59:00.326843",
   "environment_variables": {},
   "exception": null,
   "input_path": "__notebook__.ipynb",
   "output_path": "__notebook__.ipynb",
   "parameters": {},
   "start_time": "2023-11-16T00:58:53.742326",
   "version": "2.4.0"
  }
 },
 "nbformat": 4,
 "nbformat_minor": 5
}
